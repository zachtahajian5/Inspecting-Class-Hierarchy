{
  "nbformat": 4,
  "nbformat_minor": 0,
  "metadata": {
    "colab": {
      "provenance": [],
      "authorship_tag": "ABX9TyPXZWPsiXCoIyl2i+8CP1bY",
      "include_colab_link": true
    },
    "kernelspec": {
      "name": "python3",
      "display_name": "Python 3"
    },
    "language_info": {
      "name": "python"
    }
  },
  "cells": [
    {
      "cell_type": "markdown",
      "metadata": {
        "id": "view-in-github",
        "colab_type": "text"
      },
      "source": [
        "<a href=\"https://colab.research.google.com/github/zachtahajian5/Inspecting-Class-Hierarchy/blob/main/class_hierarchy.ipynb\" target=\"_parent\"><img src=\"https://colab.research.google.com/assets/colab-badge.svg\" alt=\"Open In Colab\"/></a>"
      ]
    },
    {
      "cell_type": "code",
      "execution_count": 8,
      "metadata": {
        "colab": {
          "base_uri": "https://localhost:8080/"
        },
        "id": "So87krL9g6cN",
        "outputId": "9ee7637f-64a2-47dd-b8ee-f13f29d524bd"
      },
      "outputs": [
        {
          "output_type": "stream",
          "name": "stdout",
          "text": [
            "(<class '__main__.LoveOnTheSpectrum'>,)\n",
            "(<class 'object'>,)\n",
            "(<class '__main__.LocationsShown'>, <class '__main__.LoveOnTheSpectrum'>, <class 'object'>)\n",
            "[]\n"
          ]
        }
      ],
      "source": [
        "class LoveOnTheSpectrum:\n",
        "  def __init__(self):\n",
        "    pass\n",
        "class LocationsShown(LoveOnTheSpectrum):\n",
        "  pass\n",
        "class CharactersShown(LoveOnTheSpectrum):\n",
        "  pass\n",
        "\n",
        "#inspecting the origins of one of my child classes using .__bases__ in a print statement\n",
        "\n",
        "print(CharactersShown.__bases__)\n",
        "\n",
        "#inspecting the origins of my first class(no explicit parent relationship established)\n",
        "\n",
        "print(LoveOnTheSpectrum.__bases__)\n",
        "\n",
        "#inspecting the MRO w/ .__mro__ on one of my child classes\n",
        "\n",
        "print(LocationsShown.__mro__)\n",
        "\n",
        "#expected output is the order in which python searches the object\n",
        "\n",
        "#inspecting children classes with .__subclasses__() on my children first then my parent\n",
        "\n",
        "print(CharactersShown.__subclasses__())\n",
        "\n",
        "#output is an empty list which makes sense since our class object, CharactersShown has no children\n",
        "\n",
        "\n"
      ]
    },
    {
      "cell_type": "code",
      "source": [
        "#mro problems\n",
        "\n",
        "class Being:\n",
        "  def __init__(self, species, life_sources):\n",
        "    self.species = species\n",
        "    self.life_sources = life_sources\n",
        "  def language(self, language_name):\n",
        "    self.language_name = language_name\n",
        "    print(f'I speak {self.language_name}')\n",
        "\n",
        "class Mammal(Being):\n",
        "  pass\n",
        "\n",
        "class Human(Mammal):\n",
        "  pass\n",
        "\n",
        "class Animal(Mammal):\n",
        "  pass\n",
        "\n",
        "class Fox(Animal):\n",
        "  pass\n",
        "\n",
        "#quick MRO check\n",
        "\n",
        "print(Fox.__mro__)\n",
        "\n",
        "#showing inheritence quality of Fox\n",
        "\n",
        "fox1 = Fox('Mammal', 'Water')\n",
        "fox1.language('Foxish')\n"
      ],
      "metadata": {
        "colab": {
          "base_uri": "https://localhost:8080/"
        },
        "id": "9dobKvgRoJxn",
        "outputId": "993f6f94-b1b7-4d7e-be47-61758dd4369b"
      },
      "execution_count": 20,
      "outputs": [
        {
          "output_type": "stream",
          "name": "stdout",
          "text": [
            "(<class '__main__.Fox'>, <class '__main__.Animal'>, <class '__main__.Mammal'>, <class '__main__.Being'>, <class 'object'>)\n",
            "I speak Foxish\n"
          ]
        }
      ]
    },
    {
      "cell_type": "code",
      "source": [
        "#carrying over MRO example\n",
        "\n",
        "class Being:\n",
        "  def __init__(self, species, life_sources):\n",
        "    self.species = species\n",
        "    self.life_sources = life_sources\n",
        "  def language(self, language_name, name):\n",
        "    self.language_name = language_name\n",
        "    self.name = name\n",
        "    print(f'I speak {self.language_name}.\\nAnd my name is {self.name} by the way!\\n')\n",
        "\n",
        "\n",
        "class Mammal(Being):\n",
        "  pass\n",
        "\n",
        "class Human(Mammal):\n",
        "  pass\n",
        "\n",
        "class Animal(Mammal):\n",
        "  pass\n",
        "\n",
        "class Fox(Animal):\n",
        "\n",
        "  pass\n",
        "\n",
        "#quick MRO check\n",
        "\n",
        "print(Fox.__mro__)\n",
        "\n",
        "#showing inheritence quality of Fox\n",
        "\n",
        "fox1 = Fox('Mammal', 'Water')\n",
        "fox1.language('Foxish', 'Sly')"
      ],
      "metadata": {
        "colab": {
          "base_uri": "https://localhost:8080/"
        },
        "id": "8l31FIBSruH-",
        "outputId": "ff223d78-cd09-4c81-a2de-950d0cf04b75"
      },
      "execution_count": 40,
      "outputs": [
        {
          "output_type": "stream",
          "name": "stdout",
          "text": [
            "(<class '__main__.Fox'>, <class '__main__.Animal'>, <class '__main__.Mammal'>, <class '__main__.Being'>, <class 'object'>)\n",
            "I speak Foxish.\n",
            "And my name is Sly by the way!\n",
            "\n"
          ]
        }
      ]
    }
  ]
}